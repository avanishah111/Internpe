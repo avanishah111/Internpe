{
 "cells": [
  {
   "cell_type": "code",
   "execution_count": null,
   "id": "f1172d3c",
   "metadata": {},
   "outputs": [],
   "source": [
    "import math\n",
    "\n",
    "def calculator():\n",
    "    num1 = float(input(\"Enter the first number: \"))\n",
    "    operator = input(\"Enter the operator (+, -, *, /, square, cube, sqrt): \")\n",
    "\n",
    "    if operator in ['+', '-', '*', '/']:\n",
    "        num2 = float(input(\"Enter the second number: \"))\n",
    "\n",
    "        if operator == \"+\":\n",
    "            result = num1 + num2\n",
    "        elif operator == \"-\":\n",
    "            result = num1 - num2\n",
    "        elif operator == \"*\":\n",
    "            result = num1 * num2\n",
    "        elif operator == \"/\":\n",
    "            if num2 != 0:\n",
    "                result = num1 / num2\n",
    "            else:\n",
    "                print(\"Error: Division by zero!\")\n",
    "                return\n",
    "    elif operator == \"square\":\n",
    "        result = num1 ** 2\n",
    "    elif operator == \"cube\":\n",
    "        result = num1 ** 3\n",
    "    elif operator == \"sqrt\":\n",
    "        if num1 >= 0:\n",
    "            result = math.sqrt(num1)\n",
    "        else:\n",
    "            print(\"Error: Invalid input!\")\n",
    "            return\n",
    "    else:\n",
    "        print(\"Invalid operator!\")\n",
    "        return\n",
    "\n",
    "    print(\"Result: \", result)\n",
    "\n",
    "calculator()\n"
   ]
  },
  {
   "cell_type": "code",
   "execution_count": null,
   "id": "93b32214",
   "metadata": {},
   "outputs": [],
   "source": [
    "\n"
   ]
  },
  {
   "cell_type": "code",
   "execution_count": null,
   "id": "6977b96f",
   "metadata": {},
   "outputs": [],
   "source": []
  }
 ],
 "metadata": {
  "kernelspec": {
   "display_name": "Python 3 (ipykernel)",
   "language": "python",
   "name": "python3"
  },
  "language_info": {
   "codemirror_mode": {
    "name": "ipython",
    "version": 3
   },
   "file_extension": ".py",
   "mimetype": "text/x-python",
   "name": "python",
   "nbconvert_exporter": "python",
   "pygments_lexer": "ipython3",
   "version": "3.9.12"
  }
 },
 "nbformat": 4,
 "nbformat_minor": 5
}
